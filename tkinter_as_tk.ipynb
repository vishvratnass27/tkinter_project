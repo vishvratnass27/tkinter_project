{
 "cells": [
  {
   "cell_type": "code",
   "execution_count": null,
   "id": "fac67ee0",
   "metadata": {},
   "outputs": [],
   "source": [
    "import tkinter as tk\n"
   ]
  },
  {
   "cell_type": "code",
   "execution_count": null,
   "id": "a5d8d987",
   "metadata": {},
   "outputs": [],
   "source": [
    "window = tk.Tk()"
   ]
  },
  {
   "cell_type": "code",
   "execution_count": null,
   "id": "be27cf49",
   "metadata": {},
   "outputs": [],
   "source": [
    "window"
   ]
  },
  {
   "cell_type": "code",
   "execution_count": null,
   "id": "7e9ed942",
   "metadata": {},
   "outputs": [],
   "source": [
    "label = tk.Label(window, text=\"Hello, project saarthi\")\n",
    "label.pack()"
   ]
  },
  {
   "cell_type": "code",
   "execution_count": null,
   "id": "2cdf7a12",
   "metadata": {},
   "outputs": [],
   "source": [
    "# label = tk.Label(window, text=\"project saarthi\", bg=\"blue\", fg=\"white\",highlightthickness=\"10\")\n",
    "# label.pack()\n"
   ]
  },
  {
   "cell_type": "code",
   "execution_count": null,
   "id": "9fb1a6a4",
   "metadata": {},
   "outputs": [],
   "source": [
    "image = tk.PhotoImage(file=\"saarthi.png\")\n",
    "background_label = tk.Label(window, image=image)\n",
    "background_label.place(x=0, y=0, relwidth=1, relheight=1)\n"
   ]
  },
  {
   "cell_type": "code",
   "execution_count": null,
   "id": "4367edd0",
   "metadata": {},
   "outputs": [],
   "source": [
    "label.config(font=(\"Arial\", 12))\n"
   ]
  },
  {
   "cell_type": "code",
   "execution_count": null,
   "id": "a90f77a0",
   "metadata": {},
   "outputs": [],
   "source": [
    "chat_log = tk.Text(window, height=30, width=150)\n",
    "chat_log.pack()\n"
   ]
  },
  {
   "cell_type": "code",
   "execution_count": null,
   "id": "38fe6918",
   "metadata": {},
   "outputs": [],
   "source": [
    "# Create the user input text box\n",
    "user_input_text = tk.Text(window, height=3, width=100)\n",
    "user_input_text.pack()"
   ]
  },
  {
   "cell_type": "code",
   "execution_count": null,
   "id": "00f69209",
   "metadata": {},
   "outputs": [],
   "source": [
    "def button_click():\n",
    "    label.config(text=\"Button clicked!\")\n",
    "\n",
    "button = tk.Button(window, text=\"Click Me\", command=button_click)\n",
    "button.pack()\n"
   ]
  },
  {
   "cell_type": "code",
   "execution_count": null,
   "id": "79fa4251",
   "metadata": {},
   "outputs": [],
   "source": [
    "frame = tk.Frame(window)\n",
    "frame.pack()\n",
    "\n",
    "label1 = tk.Label(frame, text=\"Label 1\")\n",
    "label1.pack(side=\"left\")\n",
    "\n",
    "label2 = tk.Label(frame, text=\"Label 2\")\n",
    "label2.pack(side=\"right\")\n"
   ]
  },
  {
   "cell_type": "code",
   "execution_count": null,
   "id": "f29ac72a",
   "metadata": {},
   "outputs": [],
   "source": [
    "menubar = tk.Menu(window)\n",
    "window.config(menu=menubar)\n",
    "\n",
    "file_menu = tk.Menu(menubar)\n",
    "file_menu.add_command(label=\"Open\")\n",
    "file_menu.add_command(label=\"Save\")\n",
    "file_menu.add_command(label=\"Exit\", command=window.quit)\n",
    "\n",
    "menubar.add_cascade(label=\"File\", menu=file_menu)\n"
   ]
  },
  {
   "cell_type": "code",
   "execution_count": null,
   "id": "76d26947",
   "metadata": {},
   "outputs": [],
   "source": []
  },
  {
   "cell_type": "code",
   "execution_count": null,
   "id": "cf92c671",
   "metadata": {},
   "outputs": [],
   "source": [
    "window.mainloop()"
   ]
  },
  {
   "cell_type": "code",
   "execution_count": null,
   "id": "8f5e6eff",
   "metadata": {},
   "outputs": [],
   "source": []
  }
 ],
 "metadata": {
  "kernelspec": {
   "display_name": "Python 3 (ipykernel)",
   "language": "python",
   "name": "python3"
  },
  "language_info": {
   "codemirror_mode": {
    "name": "ipython",
    "version": 3
   },
   "file_extension": ".py",
   "mimetype": "text/x-python",
   "name": "python",
   "nbconvert_exporter": "python",
   "pygments_lexer": "ipython3",
   "version": "3.9.13"
  }
 },
 "nbformat": 4,
 "nbformat_minor": 5
}
